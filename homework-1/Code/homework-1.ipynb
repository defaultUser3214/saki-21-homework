{
 "cells": [
  {
   "cell_type": "markdown",
   "metadata": {
    "pycharm": {
     "name": "#%% md\n"
    }
   },
   "source": [
    "# Homework 1 in Software Applications with Artificial Intelligence (OSS-SAKI)\n",
    "## by Stephanie Mehltretter"
   ]
  },
  {
   "cell_type": "markdown",
   "metadata": {},
   "source": [
    "### Table of contents\n",
    "1. [Evaluation of the data set](#1)\n",
    "2. [Preprocessing of the data](#2)\n",
    "3. [Model building](#3)\n",
    "4. [Evaluation](#4)"
   ]
  },
  {
   "cell_type": "markdown",
   "metadata": {},
   "source": [
    "<a name='1'></a>\n",
    "### 1. Evaluation of the data set\n",
    "<a name='1.1'></a>\n",
    "#### 1.1 Import of libraries"
   ]
  },
  {
   "cell_type": "code",
   "execution_count": 1,
   "metadata": {
    "pycharm": {
     "name": "#%%\n"
    }
   },
   "outputs": [],
   "source": [
    "import pandas as pd\n",
    "from sklearn.naive_bayes import GaussianNB\n",
    "from sklearn.feature_extraction.text import CountVectorizer\n",
    "import re\n",
    "from sklearn.metrics import accuracy_score\n",
    "from statistics import mean\n",
    "from stop_words import get_stop_words\n",
    "from sklearn.model_selection import train_test_split\n",
    "import numpy as np\n",
    "from datetime import datetime\n",
    "from sklearn.preprocessing import QuantileTransformer, RobustScaler\n",
    "from sklearn.metrics import classification_report, confusion_matrix\n",
    "from imblearn.over_sampling import SVMSMOTE\n",
    "from sklearn.model_selection import cross_val_score\n",
    "import matplotlib.pyplot as plt\n",
    "import seaborn\n",
    "import warnings\n",
    "warnings.filterwarnings(\"ignore\")\n"
   ]
  },
  {
   "cell_type": "markdown",
   "metadata": {},
   "source": [
    "#### 1.2 Data loading and analysis\n",
    "Printing out an overview over the first six rows of the data set"
   ]
  },
  {
   "cell_type": "code",
   "execution_count": 2,
   "metadata": {
    "pycharm": {
     "name": "#%%\n"
    },
    "scrolled": true
   },
   "outputs": [
    {
     "data": {
      "text/html": [
       "<div>\n",
       "<style scoped>\n",
       "    .dataframe tbody tr th:only-of-type {\n",
       "        vertical-align: middle;\n",
       "    }\n",
       "\n",
       "    .dataframe tbody tr th {\n",
       "        vertical-align: top;\n",
       "    }\n",
       "\n",
       "    .dataframe thead th {\n",
       "        text-align: right;\n",
       "    }\n",
       "</style>\n",
       "<table border=\"1\" class=\"dataframe\">\n",
       "  <thead>\n",
       "    <tr style=\"text-align: right;\">\n",
       "      <th></th>\n",
       "      <th>Unnamed: 0</th>\n",
       "      <th>Auftragskonto</th>\n",
       "      <th>Buchungstag</th>\n",
       "      <th>Valutadatum</th>\n",
       "      <th>Buchungstext</th>\n",
       "      <th>Verwendungszweck</th>\n",
       "      <th>Beguenstigter/Zahlungspflichtiger</th>\n",
       "      <th>Kontonummer</th>\n",
       "      <th>BLZ</th>\n",
       "      <th>Betrag</th>\n",
       "      <th>Waehrung</th>\n",
       "      <th>label</th>\n",
       "    </tr>\n",
       "  </thead>\n",
       "  <tbody>\n",
       "    <tr>\n",
       "      <th>0</th>\n",
       "      <td>0</td>\n",
       "      <td>89990201.0</td>\n",
       "      <td>28.07.2016</td>\n",
       "      <td>28.07.2016</td>\n",
       "      <td>Lohn / Gehalt</td>\n",
       "      <td>Gehalt Adorsys GmbH &amp; Co. KG End-To-End-Ref.: ...</td>\n",
       "      <td>Adorsys GmbH &amp; Co. KG</td>\n",
       "      <td>7807800780</td>\n",
       "      <td>25190001</td>\n",
       "      <td>2000.00</td>\n",
       "      <td>EUR</td>\n",
       "      <td>income</td>\n",
       "    </tr>\n",
       "    <tr>\n",
       "      <th>1</th>\n",
       "      <td>1</td>\n",
       "      <td>89990201.0</td>\n",
       "      <td>27.07.2016</td>\n",
       "      <td>27.07.2016</td>\n",
       "      <td>Miete</td>\n",
       "      <td>Byladem1Sbt De12773501123456789889 Miete Beuth...</td>\n",
       "      <td>Georg Tasche</td>\n",
       "      <td>DE31251900019123456780</td>\n",
       "      <td>VOHADE2HXXX</td>\n",
       "      <td>-670.00</td>\n",
       "      <td>EUR</td>\n",
       "      <td>living</td>\n",
       "    </tr>\n",
       "    <tr>\n",
       "      <th>2</th>\n",
       "      <td>2</td>\n",
       "      <td>89990201.0</td>\n",
       "      <td>21.07.2016</td>\n",
       "      <td>21.07.2016</td>\n",
       "      <td>Bargeld</td>\n",
       "      <td>21.07/16.34Uhr Nuernberg All Eur 70,00 Geb.Eur...</td>\n",
       "      <td>Bargeld</td>\n",
       "      <td>9999900780</td>\n",
       "      <td>25190001</td>\n",
       "      <td>-70.00</td>\n",
       "      <td>EUR</td>\n",
       "      <td>private</td>\n",
       "    </tr>\n",
       "    <tr>\n",
       "      <th>3</th>\n",
       "      <td>3</td>\n",
       "      <td>89990201.0</td>\n",
       "      <td>20.07.2016</td>\n",
       "      <td>20.07.2016</td>\n",
       "      <td>Lebensmittel / Getraenke</td>\n",
       "      <td>2831 Edeka Neubauer Nuernb.//Nuernb 2016-07-20...</td>\n",
       "      <td>Kartenzahlung</td>\n",
       "      <td>9736000780</td>\n",
       "      <td>25190001</td>\n",
       "      <td>-73.21</td>\n",
       "      <td>EUR</td>\n",
       "      <td>standardOfLiving</td>\n",
       "    </tr>\n",
       "    <tr>\n",
       "      <th>4</th>\n",
       "      <td>4</td>\n",
       "      <td>89990201.0</td>\n",
       "      <td>18.07.2016</td>\n",
       "      <td>18.07.2016</td>\n",
       "      <td>Spontanausgabe</td>\n",
       "      <td>Amazon</td>\n",
       "      <td>neue Playstation</td>\n",
       "      <td>9988776655</td>\n",
       "      <td>25125100</td>\n",
       "      <td>-363</td>\n",
       "      <td>EUR</td>\n",
       "      <td>leisure</td>\n",
       "    </tr>\n",
       "    <tr>\n",
       "      <th>5</th>\n",
       "      <td>5</td>\n",
       "      <td>89990201.0</td>\n",
       "      <td>15.07.2016</td>\n",
       "      <td>15.07.2016</td>\n",
       "      <td>Mieteinnahmen</td>\n",
       "      <td>Mietzuschuss End-To-End-Ref.: Notprovided Kund...</td>\n",
       "      <td>Isabel Anna</td>\n",
       "      <td>DE31251900019736000780</td>\n",
       "      <td>VOHADE2HXXX</td>\n",
       "      <td>200.00</td>\n",
       "      <td>EUR</td>\n",
       "      <td>finance</td>\n",
       "    </tr>\n",
       "  </tbody>\n",
       "</table>\n",
       "</div>"
      ],
      "text/plain": [
       "   Unnamed: 0  Auftragskonto Buchungstag Valutadatum  \\\n",
       "0           0     89990201.0  28.07.2016  28.07.2016   \n",
       "1           1     89990201.0  27.07.2016  27.07.2016   \n",
       "2           2     89990201.0  21.07.2016  21.07.2016   \n",
       "3           3     89990201.0  20.07.2016  20.07.2016   \n",
       "4           4     89990201.0  18.07.2016  18.07.2016   \n",
       "5           5     89990201.0  15.07.2016  15.07.2016   \n",
       "\n",
       "               Buchungstext  \\\n",
       "0             Lohn / Gehalt   \n",
       "1                     Miete   \n",
       "2                   Bargeld   \n",
       "3  Lebensmittel / Getraenke   \n",
       "4            Spontanausgabe   \n",
       "5             Mieteinnahmen   \n",
       "\n",
       "                                    Verwendungszweck  \\\n",
       "0  Gehalt Adorsys GmbH & Co. KG End-To-End-Ref.: ...   \n",
       "1  Byladem1Sbt De12773501123456789889 Miete Beuth...   \n",
       "2  21.07/16.34Uhr Nuernberg All Eur 70,00 Geb.Eur...   \n",
       "3  2831 Edeka Neubauer Nuernb.//Nuernb 2016-07-20...   \n",
       "4                                             Amazon   \n",
       "5  Mietzuschuss End-To-End-Ref.: Notprovided Kund...   \n",
       "\n",
       "  Beguenstigter/Zahlungspflichtiger             Kontonummer          BLZ  \\\n",
       "0             Adorsys GmbH & Co. KG              7807800780     25190001   \n",
       "1                      Georg Tasche  DE31251900019123456780  VOHADE2HXXX   \n",
       "2                           Bargeld              9999900780     25190001   \n",
       "3                     Kartenzahlung              9736000780     25190001   \n",
       "4                  neue Playstation              9988776655     25125100   \n",
       "5                       Isabel Anna  DE31251900019736000780  VOHADE2HXXX   \n",
       "\n",
       "    Betrag Waehrung             label  \n",
       "0  2000.00      EUR            income  \n",
       "1  -670.00      EUR            living  \n",
       "2   -70.00      EUR           private  \n",
       "3   -73.21      EUR  standardOfLiving  \n",
       "4     -363      EUR           leisure  \n",
       "5   200.00      EUR           finance  "
      ]
     },
     "execution_count": 2,
     "metadata": {},
     "output_type": "execute_result"
    }
   ],
   "source": [
    "df = pd.read_csv('TransactionClassificationDataSet.csv', sep=\";\")\n",
    "df.head(6)\n"
   ]
  },
  {
   "cell_type": "markdown",
   "metadata": {},
   "source": [
    "#### 1.3 Evaluate the number of distinct entries in the columns \"Waehrung\" and \"Auftragskonto\""
   ]
  },
  {
   "cell_type": "code",
   "execution_count": 3,
   "metadata": {
    "pycharm": {
     "name": "#%%\n"
    }
   },
   "outputs": [
    {
     "name": "stdout",
     "output_type": "stream",
     "text": [
      "1\n"
     ]
    }
   ],
   "source": [
    "number_distinct_currencies = df.Waehrung.nunique()\n",
    "print(number_distinct_currencies)"
   ]
  },
  {
   "cell_type": "markdown",
   "metadata": {},
   "source": [
    "As the column \"Waehrung\" only consists of one entry, this column does not contain useful information for the model."
   ]
  },
  {
   "cell_type": "code",
   "execution_count": 4,
   "metadata": {
    "scrolled": true
   },
   "outputs": [
    {
     "name": "stdout",
     "output_type": "stream",
     "text": [
      "2\n"
     ]
    }
   ],
   "source": [
    "number_distinct_order_accounts = df.Auftragskonto.nunique()\n",
    "print(number_distinct_order_accounts)"
   ]
  },
  {
   "cell_type": "markdown",
   "metadata": {},
   "source": [
    "The column \"Auftragskonto\" contains two different values as well as NaN values. In the following, an evaluation is performed, whether the different values in the column \"Auftragskonto\" have a correlation with the column \"label\""
   ]
  },
  {
   "cell_type": "code",
   "execution_count": 5,
   "metadata": {},
   "outputs": [
    {
     "data": {
      "text/plain": [
       "<AxesSubplot:xlabel='label'>"
      ]
     },
     "execution_count": 5,
     "metadata": {},
     "output_type": "execute_result"
    },
    {
     "data": {
      "image/png": "[encoded data removed]",
      "text/plain": [
       "<Figure size 432x288 with 1 Axes>"
      ]
     },
     "metadata": {
      "needs_background": "light"
     },
     "output_type": "display_data"
    }
   ],
   "source": [
    "label_distribution_first_order_account = df.loc[(df['Auftragskonto'] == df['Auftragskonto'][1])]\n",
    "label_distribution_first_order_account.groupby('label')['label'].count().plot.bar()\n"
   ]
  },
  {
   "cell_type": "code",
   "execution_count": 6,
   "metadata": {
    "scrolled": true
   },
   "outputs": [
    {
     "data": {
      "text/plain": [
       "<AxesSubplot:xlabel='label'>"
      ]
     },
     "execution_count": 6,
     "metadata": {},
     "output_type": "execute_result"
    },
    {
     "data": {
      "image/png": "[encoded data removed]",
      "text/plain": [
       "<Figure size 432x288 with 1 Axes>"
      ]
     },
     "metadata": {
      "needs_background": "light"
     },
     "output_type": "display_data"
    }
   ],
   "source": [
    "label_distribution_second_order_account = df.loc[(df['Auftragskonto'] == 89990210.0)]\n",
    "label_distribution_second_order_account.groupby('label')['label'].count().plot.bar()"
   ]
  },
  {
   "cell_type": "code",
   "execution_count": 7,
   "metadata": {},
   "outputs": [
    {
     "data": {
      "text/plain": [
       "<AxesSubplot:xlabel='label'>"
      ]
     },
     "execution_count": 7,
     "metadata": {},
     "output_type": "execute_result"
    },
    {
     "data": {
      "image/png": "[encoded data removed]",
      "text/plain": [
       "<Figure size 432x288 with 1 Axes>"
      ]
     },
     "metadata": {
      "needs_background": "light"
     },
     "output_type": "display_data"
    }
   ],
   "source": [
    "label_distribution_second_order_account = df.loc[(df['Auftragskonto'] != 89990210.0) & (df['Auftragskonto'] != 89990201.0)]\n",
    "label_distribution_second_order_account.groupby('label')['label'].count().plot.bar()"
   ]
  },
  {
   "cell_type": "markdown",
   "metadata": {},
   "source": [
    "According to the two bar chart above, the two entries in the column \"Auftragskonto\" do show a different distribution of the label values. This feature may be useful in the model building process. "
   ]
  },
  {
   "cell_type": "markdown",
   "metadata": {},
   "source": [
    "#### 1.4 Evaluate whether the content of the column \"Buchungstag\" and \"Valutadatum\" are always equal"
   ]
  },
  {
   "cell_type": "code",
   "execution_count": 8,
   "metadata": {},
   "outputs": [
    {
     "name": "stdout",
     "output_type": "stream",
     "text": [
      "Columns 'Buchungstag' and 'Valutadatum' have identical values?: No\n"
     ]
    }
   ],
   "source": [
    "equal_columns = np.where(df['Buchungstag'].equals(df['Valutadatum'])== False, \"No\", \"Yes\")\n",
    "print(\"Columns 'Buchungstag' and 'Valutadatum' have identical values?: \"+ str(equal_columns))"
   ]
  },
  {
   "cell_type": "code",
   "execution_count": 9,
   "metadata": {},
   "outputs": [
    {
     "data": {
      "text/html": [
       "<div>\n",
       "<style scoped>\n",
       "    .dataframe tbody tr th:only-of-type {\n",
       "        vertical-align: middle;\n",
       "    }\n",
       "\n",
       "    .dataframe tbody tr th {\n",
       "        vertical-align: top;\n",
       "    }\n",
       "\n",
       "    .dataframe thead th {\n",
       "        text-align: right;\n",
       "    }\n",
       "</style>\n",
       "<table border=\"1\" class=\"dataframe\">\n",
       "  <thead>\n",
       "    <tr style=\"text-align: right;\">\n",
       "      <th></th>\n",
       "      <th>Unnamed: 0</th>\n",
       "      <th>Auftragskonto</th>\n",
       "      <th>Buchungstag</th>\n",
       "      <th>Valutadatum</th>\n",
       "      <th>Buchungstext</th>\n",
       "      <th>Verwendungszweck</th>\n",
       "      <th>Beguenstigter/Zahlungspflichtiger</th>\n",
       "      <th>Kontonummer</th>\n",
       "      <th>BLZ</th>\n",
       "      <th>Betrag</th>\n",
       "      <th>Waehrung</th>\n",
       "      <th>label</th>\n",
       "    </tr>\n",
       "  </thead>\n",
       "  <tbody>\n",
       "    <tr>\n",
       "      <th>125</th>\n",
       "      <td>125</td>\n",
       "      <td>89990210.0</td>\n",
       "      <td>11.02.2016</td>\n",
       "      <td>12.02.2016</td>\n",
       "      <td>Euro-Überweisung</td>\n",
       "      <td>1,01E+13</td>\n",
       "      <td>Zalando Se</td>\n",
       "      <td>DE86210700200123010101</td>\n",
       "      <td>DEUTDEHH210</td>\n",
       "      <td>-113,4</td>\n",
       "      <td>EUR</td>\n",
       "      <td>leisure</td>\n",
       "    </tr>\n",
       "  </tbody>\n",
       "</table>\n",
       "</div>"
      ],
      "text/plain": [
       "     Unnamed: 0  Auftragskonto Buchungstag Valutadatum      Buchungstext  \\\n",
       "125         125     89990210.0  11.02.2016  12.02.2016  Euro-Überweisung   \n",
       "\n",
       "    Verwendungszweck Beguenstigter/Zahlungspflichtiger  \\\n",
       "125         1,01E+13                        Zalando Se   \n",
       "\n",
       "                Kontonummer          BLZ  Betrag Waehrung    label  \n",
       "125  DE86210700200123010101  DEUTDEHH210  -113,4      EUR  leisure  "
      ]
     },
     "execution_count": 9,
     "metadata": {},
     "output_type": "execute_result"
    }
   ],
   "source": [
    "r = df.loc[(df['Buchungstag'] != df['Valutadatum'])]\n",
    "r"
   ]
  },
  {
   "cell_type": "markdown",
   "metadata": {},
   "source": [
    "The columns \"Buchungstag\" and \"Valutadatum\" only differ in one entry and thus, the information gain is low by considering both columns in the model building process."
   ]
  },
  {
   "cell_type": "markdown",
   "metadata": {},
   "source": [
    "#### 1.5 Evaluate if an entry of the column \"Kontonummer\" always belongs to the same \"BLZ\" in our data set"
   ]
  },
  {
   "cell_type": "code",
   "execution_count": 10,
   "metadata": {},
   "outputs": [
    {
     "name": "stdout",
     "output_type": "stream",
     "text": [
      "The statement, that all entries of the column 'Kontonummer' have the same BLZ is true.\n"
     ]
    }
   ],
   "source": [
    "df1 = df[['BLZ', 'Kontonummer']]\n",
    "df2 = df1.drop_duplicates()\n",
    "w = np.all(df2.groupby('Kontonummer')['BLZ'].count()==1)\n",
    "print(\"The statement, that all entries of the column 'Kontonummer' have the same BLZ is \" + str(w).lower() +\".\")\n"
   ]
  },
  {
   "cell_type": "markdown",
   "metadata": {},
   "source": [
    "Thus, it is sufficient to only use the column \"Kontonummer\" in the model building process instead of both."
   ]
  },
  {
   "cell_type": "markdown",
   "metadata": {},
   "source": [
    "<a name='1.6'></a>\n",
    "#### 1.6 Analysis of the class balance/ imbalance\n",
    "Class imbalance may lead to poor classification performance on test samples belonging to a class that is barly represented in the training data set. The ML model performs better on test data belonging to a frequently represented class within the training data set. The following plot shows the distribution of the class labels in the data set:"
   ]
  },
  {
   "cell_type": "code",
   "execution_count": 11,
   "metadata": {
    "scrolled": true
   },
   "outputs": [
    {
     "data": {
      "image/png": "[encoded data removed]",
      "text/plain": [
       "<Figure size 432x288 with 1 Axes>"
      ]
     },
     "metadata": {},
     "output_type": "display_data"
    }
   ],
   "source": [
    "data = df.groupby(\"label\")['label'].count()\n",
    "data.plot.pie(autopct=\"%.1f%%\");"
   ]
  },
  {
   "cell_type": "markdown",
   "metadata": {},
   "source": [
    "As there are more frequent class occurences, e.g., standardOfLiving and leisure, and less frequent one like income and private, a rebalancing of the classes is performed in the preprocessing. "
   ]
  },
  {
   "cell_type": "markdown",
   "metadata": {},
   "source": [
    "<a name='2'></a>\n",
    "### 2. Preprocessing of the data\n",
    "In this section, the provided data is preprocessed for the use in the following training process."
   ]
  },
  {
   "cell_type": "markdown",
   "metadata": {},
   "source": [
    "#### 2.1 Removal of columns with high data sparsity\n",
    "As recognized above, the columns \"Valuatadatum\" and \"Waehrung\" do not provide a significant information gain. Moreover, the first column of the dataset (referred to by \"Unnamed: 0\" in the dataframe) is just an increasing numeration and also does not contain relevant information. "
   ]
  },
  {
   "cell_type": "code",
   "execution_count": 12,
   "metadata": {},
   "outputs": [
    {
     "data": {
      "text/html": [
       "<div>\n",
       "<style scoped>\n",
       "    .dataframe tbody tr th:only-of-type {\n",
       "        vertical-align: middle;\n",
       "    }\n",
       "\n",
       "    .dataframe tbody tr th {\n",
       "        vertical-align: top;\n",
       "    }\n",
       "\n",
       "    .dataframe thead th {\n",
       "        text-align: right;\n",
       "    }\n",
       "</style>\n",
       "<table border=\"1\" class=\"dataframe\">\n",
       "  <thead>\n",
       "    <tr style=\"text-align: right;\">\n",
       "      <th></th>\n",
       "      <th>Auftragskonto</th>\n",
       "      <th>Buchungstag</th>\n",
       "      <th>Buchungstext</th>\n",
       "      <th>Verwendungszweck</th>\n",
       "      <th>Beguenstigter/Zahlungspflichtiger</th>\n",
       "      <th>Kontonummer</th>\n",
       "      <th>Betrag</th>\n",
       "      <th>label</th>\n",
       "    </tr>\n",
       "  </thead>\n",
       "  <tbody>\n",
       "    <tr>\n",
       "      <th>0</th>\n",
       "      <td>89990201.0</td>\n",
       "      <td>28.07.2016</td>\n",
       "      <td>Lohn / Gehalt</td>\n",
       "      <td>Gehalt Adorsys GmbH &amp; Co. KG End-To-End-Ref.: ...</td>\n",
       "      <td>Adorsys GmbH &amp; Co. KG</td>\n",
       "      <td>7807800780</td>\n",
       "      <td>2000.00</td>\n",
       "      <td>income</td>\n",
       "    </tr>\n",
       "    <tr>\n",
       "      <th>1</th>\n",
       "      <td>89990201.0</td>\n",
       "      <td>27.07.2016</td>\n",
       "      <td>Miete</td>\n",
       "      <td>Byladem1Sbt De12773501123456789889 Miete Beuth...</td>\n",
       "      <td>Georg Tasche</td>\n",
       "      <td>DE31251900019123456780</td>\n",
       "      <td>-670.00</td>\n",
       "      <td>living</td>\n",
       "    </tr>\n",
       "    <tr>\n",
       "      <th>2</th>\n",
       "      <td>89990201.0</td>\n",
       "      <td>21.07.2016</td>\n",
       "      <td>Bargeld</td>\n",
       "      <td>21.07/16.34Uhr Nuernberg All Eur 70,00 Geb.Eur...</td>\n",
       "      <td>Bargeld</td>\n",
       "      <td>9999900780</td>\n",
       "      <td>-70.00</td>\n",
       "      <td>private</td>\n",
       "    </tr>\n",
       "    <tr>\n",
       "      <th>3</th>\n",
       "      <td>89990201.0</td>\n",
       "      <td>20.07.2016</td>\n",
       "      <td>Lebensmittel / Getraenke</td>\n",
       "      <td>2831 Edeka Neubauer Nuernb.//Nuernb 2016-07-20...</td>\n",
       "      <td>Kartenzahlung</td>\n",
       "      <td>9736000780</td>\n",
       "      <td>-73.21</td>\n",
       "      <td>standardOfLiving</td>\n",
       "    </tr>\n",
       "    <tr>\n",
       "      <th>4</th>\n",
       "      <td>89990201.0</td>\n",
       "      <td>18.07.2016</td>\n",
       "      <td>Spontanausgabe</td>\n",
       "      <td>Amazon</td>\n",
       "      <td>neue Playstation</td>\n",
       "      <td>9988776655</td>\n",
       "      <td>-363</td>\n",
       "      <td>leisure</td>\n",
       "    </tr>\n",
       "    <tr>\n",
       "      <th>...</th>\n",
       "      <td>...</td>\n",
       "      <td>...</td>\n",
       "      <td>...</td>\n",
       "      <td>...</td>\n",
       "      <td>...</td>\n",
       "      <td>...</td>\n",
       "      <td>...</td>\n",
       "      <td>...</td>\n",
       "    </tr>\n",
       "    <tr>\n",
       "      <th>204</th>\n",
       "      <td>NaN</td>\n",
       "      <td>15.02.2016</td>\n",
       "      <td>Mieteinnahmen</td>\n",
       "      <td>Mietzuschuss End-To-End-Ref.: Notprovided Kund...</td>\n",
       "      <td>Isabel Anna</td>\n",
       "      <td>DE31251900019736000780</td>\n",
       "      <td>200.00</td>\n",
       "      <td>finance</td>\n",
       "    </tr>\n",
       "    <tr>\n",
       "      <th>205</th>\n",
       "      <td>NaN</td>\n",
       "      <td>02.02.2016</td>\n",
       "      <td>Geldanlage</td>\n",
       "      <td>Ccbade31Xxx De71310108339900123456 Sparen End-...</td>\n",
       "      <td>Michael Koffer</td>\n",
       "      <td>DE69790800529736000780</td>\n",
       "      <td>-300.00</td>\n",
       "      <td>finance</td>\n",
       "    </tr>\n",
       "    <tr>\n",
       "      <th>206</th>\n",
       "      <td>NaN</td>\n",
       "      <td>28.01.2016</td>\n",
       "      <td>Lohn / Gehalt</td>\n",
       "      <td>Gehalt Adorsys GmbH &amp; Co. KG End-To-End-Ref.: ...</td>\n",
       "      <td>Adorsys GmbH &amp; Co. KG</td>\n",
       "      <td>7807800780</td>\n",
       "      <td>2000.00</td>\n",
       "      <td>income</td>\n",
       "    </tr>\n",
       "    <tr>\n",
       "      <th>207</th>\n",
       "      <td>NaN</td>\n",
       "      <td>28.01.2016</td>\n",
       "      <td>Geldanlage</td>\n",
       "      <td>Ssknde77Xxx De41760501010012345675 Einmalspare...</td>\n",
       "      <td>Christina Jung</td>\n",
       "      <td>DE31251900019736333780</td>\n",
       "      <td>-4000.00</td>\n",
       "      <td>finance</td>\n",
       "    </tr>\n",
       "    <tr>\n",
       "      <th>208</th>\n",
       "      <td>89990210.0</td>\n",
       "      <td>08.01.2016</td>\n",
       "      <td>Lastschrift (Einzugsermächtigung)</td>\n",
       "      <td>Abonnement Kd-Nr. 5104489.</td>\n",
       "      <td>Vag</td>\n",
       "      <td>DE89760501010001011500</td>\n",
       "      <td>-51,2</td>\n",
       "      <td>leisure</td>\n",
       "    </tr>\n",
       "  </tbody>\n",
       "</table>\n",
       "<p>209 rows × 8 columns</p>\n",
       "</div>"
      ],
      "text/plain": [
       "     Auftragskonto Buchungstag                       Buchungstext  \\\n",
       "0       89990201.0  28.07.2016                      Lohn / Gehalt   \n",
       "1       89990201.0  27.07.2016                              Miete   \n",
       "2       89990201.0  21.07.2016                            Bargeld   \n",
       "3       89990201.0  20.07.2016           Lebensmittel / Getraenke   \n",
       "4       89990201.0  18.07.2016                     Spontanausgabe   \n",
       "..             ...         ...                                ...   \n",
       "204            NaN  15.02.2016                      Mieteinnahmen   \n",
       "205            NaN  02.02.2016                         Geldanlage   \n",
       "206            NaN  28.01.2016                      Lohn / Gehalt   \n",
       "207            NaN  28.01.2016                         Geldanlage   \n",
       "208     89990210.0  08.01.2016  Lastschrift (Einzugsermächtigung)   \n",
       "\n",
       "                                      Verwendungszweck  \\\n",
       "0    Gehalt Adorsys GmbH & Co. KG End-To-End-Ref.: ...   \n",
       "1    Byladem1Sbt De12773501123456789889 Miete Beuth...   \n",
       "2    21.07/16.34Uhr Nuernberg All Eur 70,00 Geb.Eur...   \n",
       "3    2831 Edeka Neubauer Nuernb.//Nuernb 2016-07-20...   \n",
       "4                                               Amazon   \n",
       "..                                                 ...   \n",
       "204  Mietzuschuss End-To-End-Ref.: Notprovided Kund...   \n",
       "205  Ccbade31Xxx De71310108339900123456 Sparen End-...   \n",
       "206  Gehalt Adorsys GmbH & Co. KG End-To-End-Ref.: ...   \n",
       "207  Ssknde77Xxx De41760501010012345675 Einmalspare...   \n",
       "208                         Abonnement Kd-Nr. 5104489.   \n",
       "\n",
       "    Beguenstigter/Zahlungspflichtiger             Kontonummer    Betrag  \\\n",
       "0               Adorsys GmbH & Co. KG              7807800780   2000.00   \n",
       "1                        Georg Tasche  DE31251900019123456780   -670.00   \n",
       "2                             Bargeld              9999900780    -70.00   \n",
       "3                       Kartenzahlung              9736000780    -73.21   \n",
       "4                    neue Playstation              9988776655      -363   \n",
       "..                                ...                     ...       ...   \n",
       "204                       Isabel Anna  DE31251900019736000780    200.00   \n",
       "205                    Michael Koffer  DE69790800529736000780   -300.00   \n",
       "206             Adorsys GmbH & Co. KG              7807800780   2000.00   \n",
       "207                    Christina Jung  DE31251900019736333780  -4000.00   \n",
       "208                               Vag  DE89760501010001011500     -51,2   \n",
       "\n",
       "                label  \n",
       "0              income  \n",
       "1              living  \n",
       "2             private  \n",
       "3    standardOfLiving  \n",
       "4             leisure  \n",
       "..                ...  \n",
       "204           finance  \n",
       "205           finance  \n",
       "206            income  \n",
       "207           finance  \n",
       "208           leisure  \n",
       "\n",
       "[209 rows x 8 columns]"
      ]
     },
     "execution_count": 12,
     "metadata": {},
     "output_type": "execute_result"
    }
   ],
   "source": [
    "df.drop(columns=['Waehrung','Valutadatum','Unnamed: 0','BLZ'])"
   ]
  },
  {
   "cell_type": "markdown",
   "metadata": {},
   "source": [
    "#### 2.2 Extracting the main information, i.e., the weekday of the booking, from the column \"Buchungstag\"\n",
    "Therefore, the weekdays are enumerated accouring to the ISO standard 8601."
   ]
  },
  {
   "cell_type": "code",
   "execution_count": 13,
   "metadata": {},
   "outputs": [],
   "source": [
    "df.Buchungstag = df.Buchungstag.apply(lambda x: datetime.strptime(str(x), '%d.%m.%Y'))\n",
    "df.Buchungstag = df.Buchungstag.apply(lambda x: x.isoweekday())"
   ]
  },
  {
   "cell_type": "markdown",
   "metadata": {},
   "source": [
    "In the following pie chart, the distribution of the ISO standardized entries of column \"Buchungstag\" is visualized."
   ]
  },
  {
   "cell_type": "code",
   "execution_count": 14,
   "metadata": {
    "scrolled": true
   },
   "outputs": [
    {
     "data": {
      "image/png": "[encoded data removed]",
      "text/plain": [
       "<Figure size 432x288 with 1 Axes>"
      ]
     },
     "metadata": {},
     "output_type": "display_data"
    }
   ],
   "source": [
    "data = df.groupby(\"Buchungstag\")['Buchungstag'].count()\n",
    "data.plot.pie(autopct=\"%.1f%%\");"
   ]
  },
  {
   "cell_type": "code",
   "execution_count": 47,
   "metadata": {},
   "outputs": [
    {
     "data": {
      "text/plain": [
       "<AxesSubplot:xlabel='Buchungstag,label'>"
      ]
     },
     "execution_count": 47,
     "metadata": {},
     "output_type": "execute_result"
    },
    {
     "data": {
      "image/png": "[encoded data removed]",
      "text/plain": [
       "<Figure size 432x288 with 1 Axes>"
      ]
     },
     "metadata": {
      "needs_background": "light"
     },
     "output_type": "display_data"
    }
   ],
   "source": [
    "#buchungstag_distribution_first_order_account = df.loc[(df['Buchungstag'])]\n",
    "df.groupby(['Buchungstag', 'label'])['label'].count().plot.bar()"
   ]
  },
  {
   "cell_type": "markdown",
   "metadata": {},
   "source": [
    "#### 2.3 Unification of the decimal separator of the entries of the column \"Betrag\"\n",
    "Conversion of the decimal separator ',' to '.'."
   ]
  },
  {
   "cell_type": "code",
   "execution_count": 15,
   "metadata": {},
   "outputs": [],
   "source": [
    "df.Betrag = df['Betrag'].apply(lambda x: float(str(x).replace(',','.')))"
   ]
  },
  {
   "cell_type": "markdown",
   "metadata": {},
   "source": [
    "#### 2.4 Preprocessing of the text columns\n",
    "In the following, the columns \"Beguenstigter/Zahlungspflichtiger\", \"Buchungstext\" and \"Verwendungszweck\" are cleaned from typical stopwords that typically do not contain relevant information for the ML model.\n",
    "\n",
    "**Stopwords:** The package stop-words provides lists of stopwords for German and English, that are both considered. Apart from that, the English stopword list is extended by typical English stopwords that were not yet in the package's stopword list.\n",
    "\n",
    "Moreover, the text entries are converted to a lowercase representation and stored as a matrix of token counts calculated by CountVectorizer."
   ]
  },
  {
   "cell_type": "code",
   "execution_count": 16,
   "metadata": {},
   "outputs": [],
   "source": [
    "custom_stop_words = ['aren', 'can', 'couldn', 'didn', 'doesn', 'don', 'hadn', 'hasn', 'haven', 'isn', 'let', 'll', 'mustn', 're', 'shan', 'shouldn', 've', 'wasn', 'weren', 'won', 'wouldn']\n",
    "all_custom_stop_words = get_stop_words('german') + get_stop_words('english') + custom_stop_words #+ stop_words\n",
    "\n",
    "def preprocess_text_data():\n",
    "    count_vectorizer = CountVectorizer(lowercase=True, stop_words=all_custom_stop_words)\n",
    "    count_vectorizer.fit(df['accumulated_data'])\n",
    "    vectorized_messages = count_vectorizer.transform(df['accumulated_data'])\n",
    "    #\n",
    "    count_vect_df = pd.DataFrame(vectorized_messages.todense(), columns=count_vectorizer.get_feature_names())\n",
    "    count_vect_df.loc[:, 'label'] = pd.DataFrame(df['label'])\n",
    "\n",
    "    vectorized_messages = vectorized_messages.toarray()\n",
    "\n",
    "    #print(vectorized_messages)\n",
    "    y = count_vect_df.label\n",
    "    X = count_vect_df.drop('label', axis=1)\n",
    "    return (X, y, vectorized_messages)"
   ]
  },
  {
   "cell_type": "markdown",
   "metadata": {},
   "source": [
    "#### 2.5 Removal of redundant entries"
   ]
  },
  {
   "cell_type": "code",
   "execution_count": 17,
   "metadata": {},
   "outputs": [],
   "source": [
    "df = df.loc[:,~df.columns.duplicated()]"
   ]
  },
  {
   "cell_type": "markdown",
   "metadata": {},
   "source": [
    "#### 2.6 Split data set into a training and a test data set with a ratio of 80:20"
   ]
  },
  {
   "cell_type": "code",
   "execution_count": 18,
   "metadata": {},
   "outputs": [],
   "source": [
    "def split_into_train_test_data():\n",
    "    train, test, trainy, testy = train_test_split(X, y, test_size=0.2, shuffle=True, stratify=y.values)\n",
    "    return (train, test, trainy, testy)"
   ]
  },
  {
   "cell_type": "markdown",
   "metadata": {},
   "source": [
    "#### 2.7 Rebalance the training data set\n",
    "As evaluated in [1.6](#1.6), the data set has a class imbalance. The following method minimizes this class imbalance:"
   ]
  },
  {
   "cell_type": "code",
   "execution_count": 19,
   "metadata": {},
   "outputs": [],
   "source": [
    "def rebalance_training_data():\n",
    "    X_rebalanced, y_rebalanced = SVMSMOTE().fit_resample(train, trainy)\n",
    "    return (X_rebalanced, y_rebalanced)"
   ]
  },
  {
   "cell_type": "markdown",
   "metadata": {},
   "source": [
    "The following pie chart visualizes the rebalanced training data:"
   ]
  },
  {
   "cell_type": "code",
   "execution_count": 24,
   "metadata": {},
   "outputs": [
    {
     "data": {
      "text/plain": [
       "<AxesSubplot:ylabel='label'>"
      ]
     },
     "execution_count": 24,
     "metadata": {},
     "output_type": "execute_result"
    },
    {
     "data": {
      "image/png": "[encoded data removed]",
      "text/plain": [
       "<Figure size 432x288 with 1 Axes>"
      ]
     },
     "metadata": {},
     "output_type": "display_data"
    }
   ],
   "source": [
    "# Extracting the relevant columns of the data set\n",
    "with pd.option_context('mode.chained_assignment', None):\n",
    "    df.loc[:, 'accumulated_data'] = pd.DataFrame(df['Buchungstag'].astype('str')+df['Auftragskonto'].astype('str')+df['Beguenstigter/Zahlungspflichtiger']+df['Buchungstext']+df['Verwendungszweck']+','+df['Kontonummer'].astype('str'), columns=['Output']).apply(lambda x: ' '.join(x), axis=1)\n",
    "# Extracting preprocessed text data\n",
    "X, y, vectorized_messages = preprocess_text_data()\n",
    "# Splitting into training and test data set\n",
    "train, test, trainy, testy = split_into_train_test_data()\n",
    "# Minimizing the class imbalance\n",
    "X_rebalanced, y_rebalanced = rebalance_training_data()\n",
    "y_rebalanced.value_counts().plot.pie(autopct=\"%.1f%%\")"
   ]
  },
  {
   "cell_type": "markdown",
   "metadata": {},
   "source": [
    "<a name='3'></a>\n",
    "### 3. Model building\n",
    "Here two Gaussian Naive Bayes classifiers are trained. "
   ]
  },
  {
   "cell_type": "code",
   "execution_count": 25,
   "metadata": {
    "pycharm": {
     "name": "#%%\n"
    },
    "scrolled": true
   },
   "outputs": [],
   "source": [
    "number_of_iterations = 200\n",
    "copy = []\n",
    "accuracy_scores_rebalanced = []\n",
    "accuracy_scores_imbalanced = []\n",
    "\n",
    "crossvalidation_scores = []\n",
    "crossvalidation_scores_imbalanced = []\n",
    "\n",
    "for i in range(0,number_of_iterations):\n",
    "    # Extracting the relevant columns of the data set\n",
    "    with pd.option_context('mode.chained_assignment', None):\n",
    "        df.loc[:, 'accumulated_data'] = pd.DataFrame(df['Buchungstag'].astype('str')+df['Auftragskonto'].astype('str')+df['Beguenstigter/Zahlungspflichtiger']+df['Buchungstext']+df['Verwendungszweck']+','+df['Kontonummer'].astype('str'), columns=['Output']).apply(lambda x: ' '.join(x), axis=1)\n",
    "    # Extracting preprocessed text data\n",
    "    X, y, vectorized_messages = preprocess_text_data()\n",
    "    # Splitting into training and test data set\n",
    "    train, test, trainy, testy = split_into_train_test_data()\n",
    "    # Minimizing the class imbalance\n",
    "    X_rebalanced, y_rebalanced = rebalance_training_data()\n",
    "   \n",
    "    # Creating and training a Gaussian Naive Bayes model with the rebalanced training data\n",
    "    gnb = GaussianNB()\n",
    "    gnb = gnb.fit(X_rebalanced, y_rebalanced)\n",
    "    # Creating and training a Gaussian Naive Bayes model with the imbalanced training data\n",
    "    gnb_imbalanced = GaussianNB()\n",
    "    gnb_imbalanced = gnb_imbalanced.fit(train, trainy)\n",
    "\n",
    "    # Predicting the test labels \n",
    "    result = gnb.predict(test)\n",
    "    result_imbalanced = gnb_imbalanced.predict(test)\n",
    "\n",
    "    # Calculating the accuracy scores\n",
    "    accuracy_score_rebalanced = accuracy_score(result, testy.tolist())\n",
    "    accuracy_score_imbalanced = accuracy_score(result_imbalanced, testy.tolist())\n",
    "\n",
    "    accuracy_scores_rebalanced.append(accuracy_score_rebalanced)\n",
    "    accuracy_scores_imbalanced.append(accuracy_score_imbalanced)\n",
    "\n",
    "    # Calculating the crossvalidation scores\n",
    "    crossvalidation_scores = cross_val_score(gnb, test, testy, cv=5)\n",
    "    crossvalidation_scores_imbalanced = cross_val_score(gnb_imbalanced, test, testy, cv=5)\n",
    "    \n",
    "\n",
    "\n",
    "  \n",
    "    "
   ]
  },
  {
   "cell_type": "markdown",
   "metadata": {},
   "source": [
    "<a name='4'></a>\n",
    "### 4. Evaluation\n",
    "To examine the performance of the trained ML models, the mean crossvalidation_score and the mean accuracy are calculated."
   ]
  },
  {
   "cell_type": "code",
   "execution_count": 22,
   "metadata": {},
   "outputs": [
    {
     "name": "stdout",
     "output_type": "stream",
     "text": [
      "mean crossvalidation scores (rebalanced training data): 0.7583333333333333\n",
      "mean crossvalidation scores (imbalanced training data): 0.7583333333333333\n",
      "mean accuracy score (rebalanced training data):\t0.9225\n",
      "mean accuracy score (imbalanced training data):\t0.9233333333333333\n"
     ]
    }
   ],
   "source": [
    "# Print the mean accuracy of all 5 folds\n",
    "print(\"mean crossvalidation scores (rebalanced training data): \"+str(crossvalidation_scores.mean()))\n",
    "print(\"mean crossvalidation scores (imbalanced training data): \"+str(crossvalidation_scores_imbalanced.mean()))\n",
    "\n",
    "print(f\"mean accuracy score (rebalanced training data):\\t{mean(accuracy_scores_rebalanced)}\")\n",
    "print(f\"mean accuracy score (imbalanced training data):\\t{mean(accuracy_scores_imbalanced)}\")\n",
    "\n",
    "  "
   ]
  },
  {
   "cell_type": "markdown",
   "metadata": {},
   "source": [
    "The mean accuracy score of the Gaussian Naive Bayes trained on the rebalanced is slightly better than the mean accuracy score of the Gaussian Naive Bayes trained on the imbalanced data set. However, the crossvalidation scores are equal."
   ]
  },
  {
   "cell_type": "markdown",
   "metadata": {},
   "source": [
    "As the classifiers deal with a multinomlial problem, a confusion matrix is a helpful matrix for evaluating the precision and recall of the classifiers on the separate classes. "
   ]
  },
  {
   "cell_type": "code",
   "execution_count": 23,
   "metadata": {
    "scrolled": true
   },
   "outputs": [
    {
     "data": {
      "image/png": "[encoded data removed]",
      "text/plain": [
       "<Figure size 432x288 with 2 Axes>"
      ]
     },
     "metadata": {
      "needs_background": "light"
     },
     "output_type": "display_data"
    },
    {
     "data": {
      "image/png": "[encoded data removed]",
      "text/plain": [
       "<Figure size 432x288 with 2 Axes>"
      ]
     },
     "metadata": {
      "needs_background": "light"
     },
     "output_type": "display_data"
    },
    {
     "data": {
      "image/png": "[encoded data removed]",
      "text/plain": [
       "<Figure size 432x288 with 2 Axes>"
      ]
     },
     "metadata": {
      "needs_background": "light"
     },
     "output_type": "display_data"
    },
    {
     "data": {
      "image/png": "[encoded data removed]",
      "text/plain": [
       "<Figure size 432x288 with 2 Axes>"
      ]
     },
     "metadata": {
      "needs_background": "light"
     },
     "output_type": "display_data"
    }
   ],
   "source": [
    "clf_report = classification_report(trainy, gnb_imbalanced.predict(train), output_dict=True)\n",
    "seaborn.heatmap(pd.DataFrame(clf_report).iloc[:-1, :].T, annot=True)\n",
    "plt.title('Inference on training data by Gaussian Naive Bayes trained on imbalanced data')\n",
    "plt.show()\n",
    "\n",
    "clf_report = classification_report(y_rebalanced, gnb.predict(X_rebalanced), output_dict=True)\n",
    "seaborn.heatmap(pd.DataFrame(clf_report).iloc[:-1, :].T, annot=True)\n",
    "plt.title('Inference on training data by Gaussian Naive Bayes trained on rebalanced data')\n",
    "plt.show()\n",
    "\n",
    "\n",
    "clf_report = classification_report(testy, result, output_dict=True)\n",
    "seaborn.heatmap(pd.DataFrame(clf_report).iloc[:-1, :].T, annot=True)\n",
    "plt.title('Inference on test data by Gaussian Naive Bayes trained on rebalanced data')\n",
    "plt.show()\n",
    "\n",
    "clf_report = classification_report(testy, result_imbalanced, output_dict=True)\n",
    "seaborn.heatmap(pd.DataFrame(clf_report).iloc[:-1, :].T, annot=True)\n",
    "plt.title('Inference on test data by Gaussian Naive Bayes trained on imbalanced data')\n",
    "plt.show()"
   ]
  },
  {
   "cell_type": "markdown",
   "metadata": {},
   "source": [
    "As expected, the Gaussian Naive Bayes trained on the imbalanced data performs overfitting on the imbalanced training data set and achived an f1-score of 100%. According to the confusion matrices, the weighted average of the f1-score is 98%. Also, it does not seem to make a difference whether class rebalancing is used.  "
   ]
  },
  {
   "cell_type": "code",
   "execution_count": null,
   "metadata": {},
   "outputs": [],
   "source": []
  }
 ],
 "metadata": {
  "kernelspec": {
   "display_name": "Python 3",
   "language": "python",
   "name": "python3"
  },
  "language_info": {
   "codemirror_mode": {
    "name": "ipython",
    "version": 3
   },
   "file_extension": ".py",
   "mimetype": "text/x-python",
   "name": "python",
   "nbconvert_exporter": "python",
   "pygments_lexer": "ipython3",
   "version": "3.9.4"
  }
 },
 "nbformat": 4,
 "nbformat_minor": 1
}